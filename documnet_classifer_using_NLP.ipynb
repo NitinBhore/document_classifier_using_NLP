{
 "cells": [
  {
   "cell_type": "markdown",
   "metadata": {
    "id": "oVV_s2mebADO"
   },
   "source": [
    "#Exercise 1 \n",
    "\n"
   ]
  },
  {
   "cell_type": "code",
   "execution_count": null,
   "metadata": {
    "id": "o3XE4488pQ9P"
   },
   "outputs": [],
   "source": [
    "# unzip the file\n",
    "# !unzip train.zip\n",
    "# !unzip test.zip"
   ]
  },
  {
   "cell_type": "code",
   "execution_count": null,
   "metadata": {
    "id": "-fBVn4MxUPKi"
   },
   "outputs": [],
   "source": [
    "# Import library\n",
    "import pandas as pd\n",
    "import numpy as np\n",
    "import matplotlib.pyplot as plt\n",
    "from nltk.corpus import stopwords\n",
    "plt.style.use('ggplot')\n",
    "import os, json\n",
    "import nltk\n",
    "nltk.download('stopwords')\n",
    "nltk.download('punkt')\n",
    "import re\n",
    "import matplotlib\n",
    "from nltk.tokenize import word_tokenize\n",
    "import tensorflow as tf\n",
    "from tensorflow.keras.preprocessing.sequence import pad_sequences\n",
    "from keras.preprocessing.text import Tokenizer\n",
    "from tensorflow.keras.regularizers import l1\n",
    "from tqdm import tqdm\n",
    "from keras.models import Sequential\n",
    "from keras.layers import Embedding,RNN, SimpleRNN,Dense,SpatialDropout1D\n",
    "from keras.initializers import Constant\n",
    "from sklearn.model_selection import train_test_split\n",
    "from tensorflow.keras.optimizers import Adam\n",
    "from sklearn.metrics import confusion_matrix, classification_report\n",
    "stop=set(stopwords.words('english'))\n",
    "from sklearn.feature_extraction.text import TfidfVectorizer\n",
    "from sklearn.naive_bayes import MultinomialNB\n",
    "from sklearn.pipeline import make_pipeline\n"
   ]
  },
  {
   "cell_type": "code",
   "execution_count": null,
   "metadata": {
    "id": "6FqybFcHMIYM"
   },
   "outputs": [],
   "source": [
    "# Function used to create the dataframe\n",
    "def create_dataframe(dir_name):\n",
    "  path_to_json = dir_name+'/'\n",
    "  json_files = [pos_json for pos_json in os.listdir(path_to_json) if pos_json.endswith('.json')]\n",
    "  # print(json_files)\n",
    "\n",
    "  # here I define pandas Dataframe with the columns name from the json\n",
    "  jsons_data = pd.DataFrame(columns=['abstract', 'categories'])\n",
    "\n",
    "  # we need both the json and an index number so use enumerate()\n",
    "  for index, js in enumerate(json_files):\n",
    "    try:\n",
    "      with open(os.path.join(path_to_json, js)) as json_file:\n",
    "          json_text = json.load(json_file)\n",
    "\n",
    "          abstract = json_text['abstract']\n",
    "          categories = json_text['categories']\n",
    "          \n",
    "          # here I push a list of data into a pandas DataFrame at row given by 'index'\n",
    "          jsons_data.loc[index] = [abstract, categories]\n",
    "\n",
    "    except Exception as e:\n",
    "        print('Exception :', str(e))    \n",
    "\n",
    "  return jsons_data"
   ]
  },
  {
   "cell_type": "code",
   "execution_count": null,
   "metadata": {
    "id": "AwQy_xbgMId0"
   },
   "outputs": [],
   "source": [
    "## Create the train and test dataframe\n",
    "train_df = create_dataframe(\"train\")\n",
    "train_df\n",
    "\n",
    "test_df = create_dataframe(\"test\")\n",
    "test_df\n"
   ]
  },
  {
   "cell_type": "code",
   "execution_count": null,
   "metadata": {
    "id": "8ls6gRkNMIgc"
   },
   "outputs": [],
   "source": [
    "# Export the dataframe into CSV\n",
    "train_df.to_csv(\"train.csv\", index=False)\n",
    "test_df.to_csv(\"test.csv\", index=False)\n"
   ]
  },
  {
   "cell_type": "markdown",
   "metadata": {
    "id": "BZvwqC-CKdAO"
   },
   "source": [
    "#Exercise 2"
   ]
  },
  {
   "cell_type": "code",
   "execution_count": null,
   "metadata": {
    "id": "TkHIVGRIKe3S"
   },
   "outputs": [],
   "source": [
    "# Read Dataframe\n",
    "train_df = pd.read_csv(\"train.csv\", usecols= ['abstract', 'categories'])\n",
    "test_df = pd.read_csv(\"test.csv\", usecols= ['abstract', 'categories'])\n",
    "train_df.head()\n"
   ]
  },
  {
   "cell_type": "code",
   "execution_count": null,
   "metadata": {
    "id": "rX3qOeoRKe4k"
   },
   "outputs": [],
   "source": [
    "# info\n",
    "train_df.info()"
   ]
  },
  {
   "cell_type": "code",
   "execution_count": null,
   "metadata": {
    "id": "4ckwpM-zKfDZ"
   },
   "outputs": [],
   "source": [
    "# Check the null values\n",
    "train_df.isnull().sum()"
   ]
  },
  {
   "cell_type": "code",
   "execution_count": null,
   "metadata": {
    "id": "lU-vtEUoWrCs"
   },
   "outputs": [],
   "source": [
    "# Check the null values\n",
    "test_df.isnull().sum()"
   ]
  },
  {
   "cell_type": "code",
   "execution_count": null,
   "metadata": {
    "id": "Cq9CE9rtbL6a"
   },
   "outputs": [],
   "source": [
    "# drop the null values\n",
    "train_df.dropna(axis = 0, how = 'any', inplace=True)\n",
    "test_df.dropna(axis = 0, how = 'any', inplace=True)\n"
   ]
  },
  {
   "cell_type": "code",
   "execution_count": null,
   "metadata": {
    "id": "qY2OQJTydFag"
   },
   "outputs": [],
   "source": [
    "train_df['categories'].value_counts()"
   ]
  },
  {
   "cell_type": "code",
   "execution_count": null,
   "metadata": {
    "id": "lYpOe8IjbL7w"
   },
   "outputs": [],
   "source": [
    "# plot the values count \n",
    "train_df['categories'].value_counts().plot(kind='bar', figsize =(12,6))\n"
   ]
  },
  {
   "cell_type": "code",
   "execution_count": null,
   "metadata": {
    "id": "M0_PvaZQbMAK"
   },
   "outputs": [],
   "source": [
    "# plot the values count \n",
    "test_df['categories'].value_counts().plot(kind='bar', figsize =(12,6))"
   ]
  },
  {
   "cell_type": "code",
   "execution_count": null,
   "metadata": {
    "id": "dJR7-dRKzXTr"
   },
   "outputs": [],
   "source": [
    "# Load the dataset\n",
    "data = train_df\n",
    "# Get the text categories\n",
    "text_categories = data.categories.unique()\n",
    "# define the training set\n",
    "train_data = train_df\n",
    "# define the test set\n",
    "test_data = test_df\n",
    "\n",
    "print(\"We have {} unique classes\".format(len(text_categories)))\n",
    "print(\"We have {} training samples\".format(len(train_data.abstract)))\n",
    "print(\"We have {} test samples\".format(len(test_data.abstract)))"
   ]
  },
  {
   "cell_type": "markdown",
   "metadata": {
    "id": "ndCbWwgE8tQc"
   },
   "source": [
    "What are the top 3 insights generated while doing the data analysis on train set (df_train)?\n",
    "\n",
    "1. We have 26 unique classes\n",
    "\n",
    "2. We have 43916 training samples\n",
    "\n",
    "3. We have 10862 test samples"
   ]
  },
  {
   "cell_type": "markdown",
   "metadata": {
    "id": "OYwsRgu25OUp"
   },
   "source": [
    "**What are the top 3 data challenges you observe on train set?**\n",
    "1. Requirement of a large amount of training data\n",
    "\n",
    "2. Requirement of powerful computing resources to perform analysis and advanced analytics\n",
    "\n",
    "3. Required more training samples of minor categories like Skin and Connective Tissue Diseases, Disorders of Environmental Origin, Immune System Diseases and Musculoskeletal Diseases etc\n"
   ]
  },
  {
   "cell_type": "markdown",
   "metadata": {
    "id": "y0JxB-5YbZib"
   },
   "source": [
    "#Exercise 3"
   ]
  },
  {
   "cell_type": "markdown",
   "metadata": {
    "id": "smZ-ukTZ-WQS"
   },
   "source": [
    "a. Pick your favourite machine learning algorithm to train a multi-class text classifier using the train set (df_train). The classifier should be able to consider the abstract as input and predict any one of the 26 disease categories \n",
    "\n",
    "**Naive Bayes**"
   ]
  },
  {
   "cell_type": "code",
   "execution_count": null,
   "metadata": {
    "id": "AYx3kPagbe99"
   },
   "outputs": [],
   "source": [
    "# Build the model\n",
    "model = make_pipeline(TfidfVectorizer(), MultinomialNB())\n",
    "# Train the model using the training data\n",
    "model.fit(train_data.abstract, train_data.categories)\n",
    "# Predict the categories of the test data\n",
    "predicted_categories = model.predict(test_data.abstract)\n",
    "\n",
    "# classification report\n",
    "print(classification_report(test_data.categories, predicted_categories))\n"
   ]
  },
  {
   "cell_type": "markdown",
   "metadata": {
    "id": "6CpJT1OAXWVh"
   },
   "source": [
    "**b. Report key metrics on your test set (df_test) and explain your observations**\n",
    "\n",
    "Naïve Bayes Model is showing a performance with 48% accuracy. For the categories like Male Urogenital Diseases showing a good precision- 0.86 and recall- 0.63 whereas the categories like  'Pathological Conditions and Signs and Symptoms', 'Respiratory Tract Diseases' , 'Skin and Connective Tissue Diseases' etc have the precision- 0.00 and recall- 0.00 due to availability of the skewed dataset."
   ]
  },
  {
   "cell_type": "markdown",
   "metadata": {
    "id": "YfoLQgMjZMR_"
   },
   "source": [
    "**c. Explain the rationale behind choosing the algorithm in 3.a**\n",
    "\n",
    "Naive Bayes classifiers are a collection of classification algorithms based on Bayes’ Theorem.\n",
    "\n",
    "Naive Bayes assumes that each feature/variable of the same class makes an: independent and equal.\n",
    "\n",
    "Bayes’ Theorem finds the probability of an event occurring given the probability of another event that has already occurred."
   ]
  },
  {
   "cell_type": "code",
   "execution_count": null,
   "metadata": {
    "id": "6DhY-nj2bfLQ"
   },
   "outputs": [],
   "source": []
  },
  {
   "cell_type": "markdown",
   "metadata": {
    "id": "zOFbmoaLbRT0"
   },
   "source": [
    "#Exercise 4"
   ]
  },
  {
   "cell_type": "markdown",
   "metadata": {
    "id": "9wA2fm9-qw5_"
   },
   "source": [
    "**a. Build a text classifier which classifies the abstracts into one of the 26 disease categories using any RNN based architecture and report key metrics on test set. Explain your observations**"
   ]
  },
  {
   "cell_type": "code",
   "execution_count": null,
   "metadata": {
    "id": "PBbRzsc6a0W3"
   },
   "outputs": [],
   "source": [
    "##############    Recurrent Neural Network     #######################\n",
    "\n",
    "class RNN():\n",
    "  \"\"\"\n",
    "  A Recurrent Neural Network (RNN) is a type of artificial neural network \n",
    "  which uses sequential data.\n",
    "  \n",
    "  Args:\n",
    "  embedding_dict : Embedding dictionary\n",
    "  train_df : Train Dataframe name\n",
    "  test_df : Test Dataframe name\n",
    "  text_col : Text column name\n",
    "\n",
    "  Returns: \n",
    "    model : GloVe-Contextualized Vectors with SimpleRNN model\n",
    "  \n",
    "  \"\"\"\n",
    "  def __init__(self, embedding_dict, train_df, test_df, text_col):\n",
    "    \"\"\" Inits the Preprocessing \"\"\"\n",
    "    self.embedding_dict = embedding_dict\n",
    "    self.df = train_df\n",
    "    self.test_df = test_df\n",
    "    self.text_col = text_col\n",
    "\n",
    "  # clean text\n",
    "  def clean_text(self, text):\n",
    "    \"\"\"Clean the text\"\"\"\n",
    "    text = re.sub('[^a-zA-Z]', ' ', text)  \n",
    "    text = text.lower()  \n",
    "    text = text.split(' ')      \n",
    "    text = [w for w in text if not w in set(stopwords.words('english'))] \n",
    "    text = ' '.join(text)            \n",
    "    return text\n",
    "\n",
    "  # create the corpus GloVe \n",
    "  def create_corpus(self, df,col_name):\n",
    "      \"\"\" create the corpus GloVe \"\"\"\n",
    "      corpus=[]\n",
    "      for abstract in tqdm(df[col_name]):\n",
    "          words=[word.lower() for word in word_tokenize(abstract) if((word.isalpha()==1) & (word not in stop))]\n",
    "          corpus.append(words)\n",
    "      return corpus\n",
    "  \n",
    "  def run_all(self):\n",
    "    \"\"\" Run all the methods as per the requirements \"\"\"\n",
    "    self.df['clean_abstract'] = self.df[self.text_col].apply(lambda x : self.clean_text(x))\n",
    "\n",
    "    self.test_df['clean_abstract'] = self.test_df[self.text_col].apply(lambda x : self.clean_text(x))\n",
    "\n",
    "    # padding\n",
    "    MAX_LEN=10\n",
    "    tokenizer_obj=Tokenizer()\n",
    "\n",
    "    corpus=self.create_corpus(self.df, 'clean_abstract')\n",
    "    tokenizer_obj.fit_on_texts(corpus)\n",
    "    sequences=tokenizer_obj.texts_to_sequences(corpus)\n",
    "\n",
    "    abstract_pad = pad_sequences(sequences,maxlen=MAX_LEN,truncating='post',padding='post')\n",
    "\n",
    "    word_index=tokenizer_obj.word_index\n",
    "\n",
    "    # Embedding\n",
    "    num_words=len(word_index)+1\n",
    "    embedding_matrix=np.zeros((num_words,50))\n",
    "\n",
    "    for word, i in tqdm(word_index.items()):\n",
    "        if i > num_words:\n",
    "            continue\n",
    "        \n",
    "        emb_vec=embedding_dict.get(word)\n",
    "        if emb_vec is not None:\n",
    "            embedding_matrix[i]=emb_vec\n",
    "\n",
    "    # Dataset split\n",
    "    X_train,X_val, y_train, y_val = train_test_split(abstract_pad,self.df.categories, test_size=.2, random_state=2)\n",
    "\n",
    "    # Create Model\n",
    "    model=Sequential()\n",
    "\n",
    "    embedding_layer=Embedding(num_words,50,embeddings_initializer=Constant(embedding_matrix),\n",
    "                      input_length=MAX_LEN,trainable=False)\n",
    "\n",
    "    model.add(embedding_layer)\n",
    "    model.add(SpatialDropout1D(0.2))\n",
    "    model.add(SimpleRNN(64, dropout=0.2, recurrent_dropout=0.2,return_sequences=True))\n",
    "    model.add(tf.keras.layers.SimpleRNN(32,return_sequences=True))\n",
    "    model.add(tf.keras.layers.SimpleRNN(16))\n",
    "    model.add(tf.keras.layers.Dense(16, activation='relu'))\n",
    "\n",
    "    model.add(Dense(1, activation='softmax'))\n",
    "\n",
    "    optimzer=Adam(learning_rate=0.0001)\n",
    "    model.compile(loss='categorical_crossentropy',optimizer=optimzer,metrics=['acc'])\n",
    "    model.summary()\n",
    "\n",
    "    #Fitting The Model\n",
    "    history=model.fit(X_train,y_train,batch_size=32,epochs=10,validation_data=(X_val,y_val),verbose=1)\n",
    "    \n",
    "    # padding\n",
    "    MAX_LEN=10\n",
    "    tokenizer_obj=Tokenizer()\n",
    "\n",
    "    corpus=self.create_corpus(self.test_df, 'clean_abstract')\n",
    "    tokenizer_obj.fit_on_texts(corpus)\n",
    "    sequences=tokenizer_obj.texts_to_sequences(corpus)\n",
    "\n",
    "    abstract_pad_test = pad_sequences(sequences,maxlen=MAX_LEN,truncating='post',padding='post')\n",
    "\n",
    "    word_index=tokenizer_obj.word_index\n",
    "\n",
    "    y_predicted = model.predict(abstract_pad_test)\n",
    "\n",
    "    print(classification_report(self.test_df.categories, y_predicted))\n",
    "    \n",
    "    return model\n",
    "\n"
   ]
  },
  {
   "cell_type": "code",
   "execution_count": null,
   "metadata": {
    "id": "sgULQJmra0rd"
   },
   "outputs": [],
   "source": [
    "train_df = pd.read_csv(\"train.csv\", usecols= ['abstract', 'categories'])\n",
    "test_df = pd.read_csv(\"test.csv\", usecols= ['abstract', 'categories'])\n",
    "\n",
    "train_df.dropna(axis = 0, how = 'any', inplace=True)\n",
    "test_df.dropna(axis = 0, how = 'any', inplace=True)\n",
    "\n",
    "# Create the label collumn\n",
    "train_df['categories'] = train_df['categories'].replace({\n",
    "                               'Digestive System Diseases':0,\n",
    "                               'Bacterial Infections and Mycoses':1,\n",
    "                               'Wounds and Injuries':2,\n",
    "                               'Animal Diseases':3,\n",
    "                               'Male Urogenital Diseases':4,\n",
    "                               'Endocrine System Diseases':5,\n",
    "                               'Congenital Hereditary and Neonatal Diseases and Abnormalities':6,\n",
    "                               'Hemic and Lymphatic Diseases':7,\n",
    "                               'Neoplasms':8,\n",
    "                               'Chemically-Induced Disorders':9,\n",
    "                               \"Stomatognathic Diseases\":10,\n",
    "                               \"Respiratory Tract Diseases\": 11,\n",
    "                               \"Parasitic Diseases\": 12,\n",
    "                               \"Eye Diseases\": 13,\n",
    "                               \"Pathological Conditions and Signs and Symptoms\": 14,\n",
    "                               \"Otorhinolaryngologic Diseases\": 15,\n",
    "                               \"Nutritional and Metabolic Diseases\": 16,\n",
    "                               \"Cardiovascular Diseases\": 17,\n",
    "                               \"Female Urogenital Diseases and Pregnancy Complications\": 18,\n",
    "                               \"Nervous System Diseases\": 19,\n",
    "                               \"Virus Diseases\": 20,\n",
    "                               \"Occupational Diseases\": 21,\n",
    "                               \"Musculoskeletal Diseases\": 22,\n",
    "                               \"Immune System Diseases\": 23,\n",
    "                               \"Skin and Connective Tissue Diseases\": 24,\n",
    "                               \"Disorders of Environmental Origin\": 25\n",
    "                               \n",
    "                               })\n",
    "\n",
    "\n",
    "test_df['categories'] = test_df['categories'].replace({\n",
    "                               'Digestive System Diseases':0,\n",
    "                               'Bacterial Infections and Mycoses':1,\n",
    "                               'Wounds and Injuries':2,\n",
    "                               'Animal Diseases':3,\n",
    "                               'Male Urogenital Diseases':4,\n",
    "                               'Endocrine System Diseases':5,\n",
    "                               'Congenital Hereditary and Neonatal Diseases and Abnormalities':6,\n",
    "                               'Hemic and Lymphatic Diseases':7,\n",
    "                               'Neoplasms':8,\n",
    "                               'Chemically-Induced Disorders':9,\n",
    "                               \"Stomatognathic Diseases\":10,\n",
    "                               \"Respiratory Tract Diseases\": 11,\n",
    "                               \"Parasitic Diseases\": 12,\n",
    "                               \"Eye Diseases\": 13,\n",
    "                               \"Pathological Conditions and Signs and Symptoms\": 14,\n",
    "                               \"Otorhinolaryngologic Diseases\": 15,\n",
    "                               \"Nutritional and Metabolic Diseases\": 16,\n",
    "                               \"Cardiovascular Diseases\": 17,\n",
    "                               \"Female Urogenital Diseases and Pregnancy Complications\": 18,\n",
    "                               \"Nervous System Diseases\": 19,\n",
    "                               \"Virus Diseases\": 20,\n",
    "                               \"Occupational Diseases\": 21,\n",
    "                               \"Musculoskeletal Diseases\": 22,\n",
    "                               \"Immune System Diseases\": 23,\n",
    "                               \"Skin and Connective Tissue Diseases\": 24,\n",
    "                               \"Disorders of Environmental Origin\": 25                               \n",
    "                               })\n",
    "\n",
    "\n",
    "embedding_dict={}\n",
    "with open('glove.6B.50d.txt','r') as f:\n",
    "    for line in f:\n",
    "        values=line.split()\n",
    "        word=values[0]\n",
    "        vectors=np.asarray(values[1:],'float32')\n",
    "        embedding_dict[word]=vectors\n",
    "f.close()\n",
    "\n",
    "train_df = train_df.head(100)\n",
    "\n",
    "RNNExe = RNN(embedding_dict, train_df, test_df, 'abstract')\n",
    "model = RNNExe.run_all()"
   ]
  },
  {
   "cell_type": "markdown",
   "metadata": {
    "id": "_yO4XO-Uq5HV"
   },
   "source": [
    "**Observations**\n",
    "\n",
    "Above confusion matrix shows the RNN Model's performance due to the unavailability of powerful computing resources to perform advanced analytics its quite challenging. So selected the GloVe with 6B tokens, 400K vocab, uncased, 50d vectors \n",
    "\n",
    "Common Crawl (840B tokens, 2.2M vocab, cased, 300d vectors, 2.03 GB download): glove.840B.300d.zip will helps here to increase the accuracy with precision and recall.\n"
   ]
  },
  {
   "cell_type": "code",
   "execution_count": null,
   "metadata": {
    "id": "L84UjeA-a0uM"
   },
   "outputs": [],
   "source": []
  },
  {
   "cell_type": "markdown",
   "metadata": {
    "id": "WIDtOf79tyPk"
   },
   "source": [
    "**b. Build a text classifier which classifies the abstracts into one of the 26 disease categories using any Transformer architecture and report key metrics on test set. Explain your observations**"
   ]
  },
  {
   "cell_type": "markdown",
   "metadata": {
    "id": "MAMX5YevUFsL"
   },
   "source": [
    "**BERT** - Bidirectional Encoder Representations from Transformers\n",
    "The main breakthrough of the BERT model is that it scans text in a bidirectional way like left-to-right and right-to-left sequences when looking at texts during training.\n",
    "There are two general types of BERT: BERT (base) and BERT (large). The difference is in configurable parameters: base-110 million parameter, large-345 million.\n",
    "\n",
    "\n",
    "Note: BERT Base model is selected due to the restriction on the uses of computing resources (Colab)"
   ]
  },
  {
   "cell_type": "code",
   "execution_count": null,
   "metadata": {
    "id": "xOnoeZ5Fb9cM"
   },
   "outputs": [],
   "source": [
    "### Install the required library\n",
    "# ! pip install tensorflow_text"
   ]
  },
  {
   "cell_type": "code",
   "execution_count": null,
   "metadata": {
    "id": "xVQ1gmp4pRv7"
   },
   "outputs": [],
   "source": [
    "# import BERT model\n",
    "import numpy as np\n",
    "import pandas as pd\n",
    "from sklearn.model_selection import train_test_split\n",
    "import tensorflow as tf\n",
    "import tensorflow_hub as hub\n",
    "import tensorflow_text as text\n",
    "from sklearn.metrics import confusion_matrix, classification_report\n",
    "from matplotlib import pyplot as plt\n",
    "import seaborn as sn\n",
    "\n",
    "# import BERT model\n",
    "bert_preprocess = hub.KerasLayer(\"https://tfhub.dev/tensorflow/bert_en_uncased_preprocess/3\")\n",
    "bert_encoder = hub.KerasLayer(\"https://tfhub.dev/tensorflow/bert_en_uncased_L-12_H-768_A-12/4\")\n",
    "\n",
    "#import ALBERT - A Lite BERT model\n",
    "albert_preprocess = hub.KerasLayer(\"http://tfhub.dev/tensorflow/albert_en_preprocess/3\")\n",
    "albert_encoder = hub.KerasLayer(\"https://tfhub.dev/tensorflow/albert_en_base/3\")\n",
    "\n",
    "#import RoBERTa - Robustly Optimized BERT Pretraining Approach\n",
    "roberta_preprocess = hub.KerasLayer(\"https://tfhub.dev/jeongukjae/xlm_roberta_multi_cased_preprocess/1\")\n",
    "roberta_encoder = hub.KerasLayer(\"https://tfhub.dev/jeongukjae/xlm_roberta_multi_cased_L-12_H-768_A-12/1\")\n"
   ]
  },
  {
   "cell_type": "code",
   "execution_count": null,
   "metadata": {
    "id": "1sJ8g9QBpSIO"
   },
   "outputs": [],
   "source": [
    "train_df = pd.read_csv(\"train.csv\", usecols= ['abstract', 'categories'])\n",
    "test_df = pd.read_csv(\"test.csv\", usecols= ['abstract', 'categories'])\n",
    "\n",
    "# drop the null values\n",
    "train_df.dropna(axis = 0, how = 'any', inplace=True)\n",
    "test_df.dropna(axis = 0, how = 'any', inplace=True)"
   ]
  },
  {
   "cell_type": "code",
   "execution_count": null,
   "metadata": {
    "id": "msvTgo20fN9j"
   },
   "outputs": [],
   "source": [
    "# Create the label collumn\n",
    "train_df['categories'] = train_df['categories'].replace({\n",
    "                               'Digestive System Diseases':0,\n",
    "                               'Bacterial Infections and Mycoses':1,\n",
    "                               'Wounds and Injuries':2,\n",
    "                               'Animal Diseases':3,\n",
    "                               'Male Urogenital Diseases':4,\n",
    "                               'Endocrine System Diseases':5,\n",
    "                               'Congenital Hereditary and Neonatal Diseases and Abnormalities':6,\n",
    "                               'Hemic and Lymphatic Diseases':7,\n",
    "                               'Neoplasms':8,\n",
    "                               'Chemically-Induced Disorders':9,\n",
    "                               \"Stomatognathic Diseases\":10,\n",
    "                               \"Respiratory Tract Diseases\": 11,\n",
    "                               \"Parasitic Diseases\": 12,\n",
    "                               \"Eye Diseases\": 13,\n",
    "                               \"Pathological Conditions and Signs and Symptoms\": 14,\n",
    "                               \"Otorhinolaryngologic Diseases\": 15,\n",
    "                               \"Nutritional and Metabolic Diseases\": 16,\n",
    "                               \"Cardiovascular Diseases\": 17,\n",
    "                               \"Female Urogenital Diseases and Pregnancy Complications\": 18,\n",
    "                               \"Nervous System Diseases\": 19,\n",
    "                               \"Virus Diseases\": 20,\n",
    "                               \"Occupational Diseases\": 21,\n",
    "                               \"Musculoskeletal Diseases\": 22,\n",
    "                               \"Immune System Diseases\": 23,\n",
    "                               \"Skin and Connective Tissue Diseases\": 24,\n",
    "                               \"Disorders of Environmental Origin\": 25\n",
    "                               \n",
    "                               })\n",
    "\n",
    "\n",
    "test_df['categories'] = test_df['categories'].replace({\n",
    "                               'Digestive System Diseases':0,\n",
    "                               'Bacterial Infections and Mycoses':1,\n",
    "                               'Wounds and Injuries':2,\n",
    "                               'Animal Diseases':3,\n",
    "                               'Male Urogenital Diseases':4,\n",
    "                               'Endocrine System Diseases':5,\n",
    "                               'Congenital Hereditary and Neonatal Diseases and Abnormalities':6,\n",
    "                               'Hemic and Lymphatic Diseases':7,\n",
    "                               'Neoplasms':8,\n",
    "                               'Chemically-Induced Disorders':9,\n",
    "                               \"Stomatognathic Diseases\":10,\n",
    "                               \"Respiratory Tract Diseases\": 11,\n",
    "                               \"Parasitic Diseases\": 12,\n",
    "                               \"Eye Diseases\": 13,\n",
    "                               \"Pathological Conditions and Signs and Symptoms\": 14,\n",
    "                               \"Otorhinolaryngologic Diseases\": 15,\n",
    "                               \"Nutritional and Metabolic Diseases\": 16,\n",
    "                               \"Cardiovascular Diseases\": 17,\n",
    "                               \"Female Urogenital Diseases and Pregnancy Complications\": 18,\n",
    "                               \"Nervous System Diseases\": 19,\n",
    "                               \"Virus Diseases\": 20,\n",
    "                               \"Occupational Diseases\": 21,\n",
    "                               \"Musculoskeletal Diseases\": 22,\n",
    "                               \"Immune System Diseases\": 23,\n",
    "                               \"Skin and Connective Tissue Diseases\": 24,\n",
    "                               \"Disorders of Environmental Origin\": 25\n",
    "                               \n",
    "                               })"
   ]
  },
  {
   "cell_type": "code",
   "execution_count": null,
   "metadata": {
    "id": "uMJneac4fOCD"
   },
   "outputs": [],
   "source": [
    "# Split it into training and test data set\n",
    "# X_train, X_test, y_train, y_test = train_test_split(df_balanced[text_column], df_balanced[label_column], stratify=df_balanced[label_column]) # pylint: disable=invalid-name, disable=line-too-long\n",
    "\n",
    "X_train = train_df['abstract']\n",
    "y_train = train_df['categories']\n",
    "\n",
    "X_test = test_df['abstract']\n",
    "y_test = test_df['categories']\n",
    "\n",
    "def create_model_func(X_train, y_train, X_test, y_test, bert_preprocess, bert_encoder, epochs):\n",
    "\n",
    "  # Bert layers\n",
    "  text_input = tf.keras.layers.Input(shape=(), dtype=tf.string, name='text')\n",
    "  preprocessed_text = bert_preprocess(text_input)\n",
    "  outputs = bert_encoder(preprocessed_text)\n",
    "\n",
    "  # Neural network layers\n",
    "  lay = tf.keras.layers.Dense(64, activation='relu', name=\"dense1\")(outputs['pooled_output'])\n",
    "  lay = tf.keras.layers.Dropout(0.2, name=\"dropout1\")(lay)\n",
    "  lay = tf.keras.layers.Dense(32, activation='relu', name=\"dense2\")(lay)\n",
    "  lay = tf.keras.layers.Dropout(0.2, name=\"dropout\")(lay)\n",
    "  lay = tf.keras.layers.Dense(1, activation='softmax', name=\"output2\")(lay)\n",
    "\n",
    "  # Use inputs and outputs to construct a final model\n",
    "  model = tf.keras.Model(inputs=[text_input], outputs=[lay])\n",
    "\n",
    "  # print summary\n",
    "  model.summary()\n",
    "  model.compile(optimizer='adam', loss='categorical_crossentropy', metrics=['accuracy'])\n",
    "  # train the model\n",
    "  model.fit(X_train, y_train, epochs=epochs)\n",
    "\n",
    "  y_predicted = model.predict(X_test)\n",
    "\n",
    "  print(classification_report(y_test, y_predicted))\n",
    "  \n"
   ]
  },
  {
   "cell_type": "code",
   "execution_count": null,
   "metadata": {
    "id": "FqBIIczaH71P"
   },
   "outputs": [],
   "source": [
    "## BERT Base model\n",
    "create_model_func(X_train, y_train, X_test, y_test, bert_preprocess, bert_encoder, 3)\n"
   ]
  },
  {
   "cell_type": "markdown",
   "metadata": {
    "id": "NOHxb0F6XN7r"
   },
   "source": [
    "**Observations**\n",
    "The accueacy of the BERT model is 0.0952. Need more data to train the BERT model.\n"
   ]
  },
  {
   "cell_type": "markdown",
   "metadata": {
    "id": "G2yXEl0Exw2G"
   },
   "source": [
    "**c. You are free to experiment various Transformer architectures for 4.a and 4.b, however, only report the model which you consider the best. What is your rationale for this model selection?**\n",
    "\n",
    "**ALBERT - A Lite BERT**\n",
    "ALBERT is developed based on the BERT model. Its major breakthrough is that it brings a significant parameter reduction but maintains the same level of performance compared to BERT.\n",
    "In ALBERT, parameters are shared across 12 layers of transformer encoders, while in the original BERT, each layer of encoders have a unique set of parameters.\n",
    "\n",
    "\n",
    "**RoBERTa - Robustly Optimized BERT Pretraining Approach**\n",
    "RoBERTa makes changes to the architecture and training procedures of BERT. Specifically, RoBERTa removes the Next Sentence Prediction (NSP) objective, uses a much larger dataset than BERT, and replaces static masking with dynamic masking.\n",
    "\n"
   ]
  },
  {
   "cell_type": "code",
   "execution_count": null,
   "metadata": {
    "id": "xATfnT3twYjy"
   },
   "outputs": [],
   "source": [
    "#import ALBERT - A Lite BERT model \n",
    "create_model_func(X_train, y_train, X_test, y_test, albert_preprocess, albert_encoder, 3)\n"
   ]
  },
  {
   "cell_type": "code",
   "execution_count": null,
   "metadata": {
    "id": "4GViJUm9B6tJ"
   },
   "outputs": [],
   "source": [
    "#import RoBERTa - Robustly Optimized BERT Pretraining Approach  \n",
    "create_model_func(X_train, y_train, X_test, y_test, roberta_preprocess, roberta_encoder, 3)\n"
   ]
  },
  {
   "cell_type": "markdown",
   "metadata": {
    "id": "2I66xYPB0bAo"
   },
   "source": [
    "d. Consider the test table/dataframe (df_test). Run an inference through the best model determined in 4.c."
   ]
  },
  {
   "cell_type": "code",
   "execution_count": null,
   "metadata": {
    "id": "mFJ8yvBeCVHm"
   },
   "outputs": [],
   "source": []
  },
  {
   "cell_type": "code",
   "execution_count": null,
   "metadata": {
    "id": "g9f3KvnVCVLT"
   },
   "outputs": [],
   "source": []
  },
  {
   "cell_type": "code",
   "execution_count": null,
   "metadata": {
    "id": "8YbCN2jJCVNM"
   },
   "outputs": [],
   "source": []
  },
  {
   "cell_type": "code",
   "execution_count": null,
   "metadata": {
    "id": "zzfb_p4VCVRt"
   },
   "outputs": [],
   "source": []
  },
  {
   "cell_type": "code",
   "execution_count": null,
   "metadata": {
    "id": "5ledv28mCVXq"
   },
   "outputs": [],
   "source": []
  },
  {
   "cell_type": "code",
   "execution_count": null,
   "metadata": {
    "id": "yAONSKr_nASx"
   },
   "outputs": [],
   "source": []
  },
  {
   "cell_type": "code",
   "execution_count": null,
   "metadata": {
    "id": "209wa8IhnAXJ"
   },
   "outputs": [],
   "source": []
  },
  {
   "cell_type": "code",
   "execution_count": null,
   "metadata": {
    "id": "S1FsXIcJnAzZ"
   },
   "outputs": [],
   "source": []
  },
  {
   "cell_type": "code",
   "execution_count": null,
   "metadata": {
    "id": "S-JaDyvjnA0n"
   },
   "outputs": [],
   "source": []
  },
  {
   "cell_type": "code",
   "execution_count": null,
   "metadata": {
    "id": "B661proAnA48"
   },
   "outputs": [],
   "source": []
  },
  {
   "cell_type": "code",
   "execution_count": null,
   "metadata": {
    "id": "FBrT5oG-nA6s"
   },
   "outputs": [],
   "source": []
  },
  {
   "cell_type": "code",
   "execution_count": null,
   "metadata": {
    "id": "1aS5k74RfODc"
   },
   "outputs": [],
   "source": []
  }
 ],
 "metadata": {
  "accelerator": "GPU",
  "colab": {
   "collapsed_sections": [
    "y0JxB-5YbZib"
   ],
   "private_outputs": true,
   "provenance": []
  },
  "gpuClass": "standard",
  "kernelspec": {
   "display_name": "Python 3 (ipykernel)",
   "language": "python",
   "name": "python3"
  },
  "language_info": {
   "codemirror_mode": {
    "name": "ipython",
    "version": 3
   },
   "file_extension": ".py",
   "mimetype": "text/x-python",
   "name": "python",
   "nbconvert_exporter": "python",
   "pygments_lexer": "ipython3",
   "version": "3.11.5"
  }
 },
 "nbformat": 4,
 "nbformat_minor": 1
}
